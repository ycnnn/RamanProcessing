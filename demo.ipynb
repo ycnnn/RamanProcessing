{
 "cells": [
  {
   "cell_type": "code",
   "execution_count": 2,
   "metadata": {},
   "outputs": [],
   "source": [
    "from Raman_fit import MoS2_Raman\n",
    "\n",
    "# Initialize the Raman map for MoS2. \n",
    "# height = scan steps\n",
    "# width = scan width (default = 400)\n",
    "# filename: where the txt map is located\n",
    "# the text file MUST have silicon peak as a reference for correction!\n",
    "raman_map = MoS2_Raman(filename='scan1.txt',height=38, width=400)\n",
    "raman_map.fit()"
   ]
  }
 ],
 "metadata": {
  "kernelspec": {
   "display_name": "base",
   "language": "python",
   "name": "python3"
  },
  "language_info": {
   "codemirror_mode": {
    "name": "ipython",
    "version": 3
   },
   "file_extension": ".py",
   "mimetype": "text/x-python",
   "name": "python",
   "nbconvert_exporter": "python",
   "pygments_lexer": "ipython3",
   "version": "3.10.9"
  },
  "orig_nbformat": 4
 },
 "nbformat": 4,
 "nbformat_minor": 2
}
